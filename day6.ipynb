{
 "cells": [
  {
   "cell_type": "code",
   "execution_count": 2,
   "metadata": {},
   "outputs": [
    {
     "name": "stdout",
     "output_type": "stream",
     "text": [
      "<built-in method start of _sre.SRE_Match object at 0x000002ACD8E43098> ... 2 ... ab\n",
      "<built-in method start of _sre.SRE_Match object at 0x000002ACD8E43168> ... 5 ... ab\n",
      "<built-in method start of _sre.SRE_Match object at 0x000002ACD8E43098> ... 7 ... ab\n",
      "the number of occurences 3\n"
     ]
    }
   ],
   "source": [
    "import re\n",
    "count=0\n",
    "pattern=re.compile(\"ab\")\n",
    "matcher=pattern.finditer(\"abaababa\")\n",
    "for match in matcher:\n",
    "    count+=1\n",
    "    print(match.start,\"...\",match.end(),\"...\",match.group())\n",
    "print(\"the number of occurences\",count)\n",
    "          "
   ]
  },
  {
   "cell_type": "code",
   "execution_count": 6,
   "metadata": {},
   "outputs": [
    {
     "name": "stdout",
     "output_type": "stream",
     "text": [
      "0 ... a\n",
      "2 ... b\n",
      "the number of occurences 3\n"
     ]
    }
   ],
   "source": [
    "import re\n",
    "matcher=re.finditer(\"[a,b,c]\",\"a7b@k9z\")\n",
    "for match in matcher:\n",
    "    print(match.start(),\"...\",match.group())\n",
    "print(\"the number of occurences\",count)    \n"
   ]
  },
  {
   "cell_type": "code",
   "execution_count": 7,
   "metadata": {},
   "outputs": [
    {
     "name": "stdout",
     "output_type": "stream",
     "text": [
      "1 ... 7\n",
      "3 ... @\n",
      "4 ... k\n",
      "5 ... 9\n",
      "6 ... z\n",
      "the number of occurences 3\n"
     ]
    }
   ],
   "source": [
    "import re\n",
    "matcher=re.finditer(\"[^a,b,c]\",\"a7b@k9z\")\n",
    "for match in matcher:\n",
    "    print(match.start(),\"...\",match.group())\n",
    "print(\"the number of occurences\",count)"
   ]
  },
  {
   "cell_type": "code",
   "execution_count": 8,
   "metadata": {},
   "outputs": [
    {
     "name": "stdout",
     "output_type": "stream",
     "text": [
      "0 ... a\n",
      "2 ... b\n",
      "4 ... k\n",
      "6 ... z\n",
      "the number of occurences 3\n"
     ]
    }
   ],
   "source": [
    "import re\n",
    "matcher=re.finditer(\"[a-z]\",\"a7b@k9z\")\n",
    "for match in matcher:\n",
    "    print(match.start(),\"...\",match.group())\n",
    "print(\"the number of occurences\",count)"
   ]
  },
  {
   "cell_type": "code",
   "execution_count": 9,
   "metadata": {},
   "outputs": [
    {
     "name": "stdout",
     "output_type": "stream",
     "text": [
      "1 ... 7\n",
      "5 ... 9\n",
      "the number of occurences 3\n"
     ]
    }
   ],
   "source": [
    "import re\n",
    "matcher=re.finditer(\"[0-9]\",\"a7b@k9z\")\n",
    "for match in matcher:\n",
    "    print(match.start(),\"...\",match.group())\n",
    "print(\"the number of occurences\",count)"
   ]
  },
  {
   "cell_type": "code",
   "execution_count": 10,
   "metadata": {},
   "outputs": [
    {
     "name": "stdout",
     "output_type": "stream",
     "text": [
      "0 ... a\n",
      "1 ... 7\n",
      "2 ... b\n",
      "3 ... S\n",
      "4 ... D\n",
      "6 ... k\n",
      "7 ... 9\n",
      "8 ... z\n",
      "the number of occurences 3\n"
     ]
    }
   ],
   "source": [
    "import re\n",
    "matcher=re.finditer(\"[a-zA-Z0-9]\",\"a7bSD@k9z\")\n",
    "for match in matcher:\n",
    "    print(match.start(),\"...\",match.group())\n",
    "print(\"the number of occurences\",count)"
   ]
  },
  {
   "cell_type": "code",
   "execution_count": 11,
   "metadata": {},
   "outputs": [
    {
     "name": "stdout",
     "output_type": "stream",
     "text": [
      "the number of occurences 3\n"
     ]
    }
   ],
   "source": [
    "import re\n",
    "matcher=re.finditer(\"\\s\",\"a7b@k9z\")\n",
    "for match in matcher:\n",
    "    print(match.start(),\"...\",match.group())\n",
    "print(\"the number of occurences\",count)"
   ]
  },
  {
   "cell_type": "code",
   "execution_count": 12,
   "metadata": {},
   "outputs": [
    {
     "name": "stdout",
     "output_type": "stream",
     "text": [
      "1 ... 7\n",
      "5 ... 9\n",
      "the number of occurences 3\n"
     ]
    }
   ],
   "source": [
    "import re\n",
    "matcher=re.finditer(\"\\d\",\"a7b@k9z\")\n",
    "for match in matcher:\n",
    "    print(match.start(),\"...\",match.group())\n",
    "print(\"the number of occurences\",count)"
   ]
  },
  {
   "cell_type": "code",
   "execution_count": 14,
   "metadata": {},
   "outputs": [
    {
     "name": "stdout",
     "output_type": "stream",
     "text": [
      "0 ... a\n",
      "2 ... b\n",
      "3 ... @\n",
      "4 ... k\n",
      "6 ... z\n",
      "the number of occurences 3\n"
     ]
    }
   ],
   "source": [
    "import re\n",
    "matcher=re.finditer(\"\\D\",\"a7b@k9z\")\n",
    "for match in matcher:\n",
    "    print(match.start(),\"...\",match.group())\n",
    "print(\"the number of occurences\",count)"
   ]
  },
  {
   "cell_type": "code",
   "execution_count": 16,
   "metadata": {},
   "outputs": [
    {
     "name": "stdout",
     "output_type": "stream",
     "text": [
      "3 ... @\n",
      "the number of occurences 3\n"
     ]
    }
   ],
   "source": [
    "import re\n",
    "matcher=re.finditer(\"\\W\",\"a7b@k9z\")\n",
    "for match in matcher:\n",
    "    print(match.start(),\"...\",match.group())\n",
    "print(\"the number of occurences\",count)"
   ]
  },
  {
   "cell_type": "code",
   "execution_count": 17,
   "metadata": {},
   "outputs": [
    {
     "name": "stdout",
     "output_type": "stream",
     "text": [
      "0 ... a\n",
      "1 ... 7\n",
      "2 ... b\n",
      "4 ... k\n",
      "5 ... 9\n",
      "6 ... z\n",
      "the number of occurences 3\n"
     ]
    }
   ],
   "source": [
    "import re\n",
    "matcher=re.finditer(\"\\w\",\"a7b@k9z\")\n",
    "for match in matcher:\n",
    "    print(match.start(),\"...\",match.group())\n",
    "print(\"the number of occurences\",count)"
   ]
  },
  {
   "cell_type": "code",
   "execution_count": 18,
   "metadata": {},
   "outputs": [
    {
     "name": "stdout",
     "output_type": "stream",
     "text": [
      "0 ... a\n",
      "2 ... a\n",
      "3 ... a\n",
      "5 ... a\n",
      "6 ... a\n"
     ]
    }
   ],
   "source": [
    "matcher=re.finditer(\"a\",\"abaabaab\")\n",
    "for match in matcher:\n",
    "    print(match.start(),\"...\",match.group())"
   ]
  },
  {
   "cell_type": "code",
   "execution_count": 19,
   "metadata": {},
   "outputs": [
    {
     "name": "stdout",
     "output_type": "stream",
     "text": [
      "0 ... a\n",
      "2 ... aa\n",
      "5 ... aa\n"
     ]
    }
   ],
   "source": [
    "matcher=re.finditer(\"a+\",\"abaabaab\")\n",
    "for match in matcher:\n",
    "    print(match.start(),\"...\",match.group())"
   ]
  },
  {
   "cell_type": "code",
   "execution_count": 20,
   "metadata": {},
   "outputs": [
    {
     "name": "stdout",
     "output_type": "stream",
     "text": [
      "0 ... a\n",
      "2 ... a\n",
      "3 ... a\n",
      "5 ... a\n",
      "6 ... a\n",
      "7 ... a\n"
     ]
    }
   ],
   "source": [
    "matcher=re.finditer(\"a\",\"abaabaaab\")\n",
    "for match in matcher:\n",
    "    print(match.start(),\"...\",match.group())"
   ]
  },
  {
   "cell_type": "code",
   "execution_count": 21,
   "metadata": {},
   "outputs": [
    {
     "name": "stdout",
     "output_type": "stream",
     "text": [
      "0 ... a\n",
      "1 ... \n",
      "2 ... a\n",
      "3 ... a\n",
      "4 ... \n",
      "5 ... a\n",
      "6 ... a\n",
      "7 ... \n",
      "8 ... \n"
     ]
    }
   ],
   "source": [
    "matcher=re.finditer(\"a?\",\"abaabaab\")\n",
    "for match in matcher:\n",
    "    print(match.start(),\"...\",match.group())"
   ]
  },
  {
   "cell_type": "code",
   "execution_count": 24,
   "metadata": {},
   "outputs": [
    {
     "name": "stdout",
     "output_type": "stream",
     "text": [
      "5 ... aaa\n"
     ]
    }
   ],
   "source": [
    "matcher=re.finditer(\"a{3}\",\"abaabaaab\")\n",
    "for match in matcher:\n",
    "    print(match.start(),\"...\",match.group())"
   ]
  },
  {
   "cell_type": "code",
   "execution_count": 25,
   "metadata": {},
   "outputs": [
    {
     "name": "stdout",
     "output_type": "stream",
     "text": [
      "2 ... aa\n",
      "5 ... aaa\n"
     ]
    }
   ],
   "source": [
    "matcher=re.finditer(\"a{2,4}\",\"abaabaaab\")\n",
    "for match in matcher:\n",
    "    print(match.start(),\"...\",match.group())"
   ]
  },
  {
   "cell_type": "code",
   "execution_count": 26,
   "metadata": {},
   "outputs": [
    {
     "name": "stdout",
     "output_type": "stream",
     "text": [
      "Target String starts with Learn\n"
     ]
    }
   ],
   "source": [
    "s=\"Learning Python is very Easy\"\n",
    "res=re.search(\"^Learn\",s)\n",
    "if res!=None:\n",
    "    print(\"Target String starts with Learn\")\n",
    "else:\n",
    "    print(\"Target String Not starts with Learn\")"
   ]
  },
  {
   "cell_type": "code",
   "execution_count": 27,
   "metadata": {},
   "outputs": [
    {
     "name": "stdout",
     "output_type": "stream",
     "text": [
      "Target String ends with Easy\n"
     ]
    }
   ],
   "source": [
    "s=\"Learning Python is very Easy\"\n",
    "res=re.search(\"Easy$\",s)\n",
    "if res!=None:\n",
    "    print(\"Target String ends with Easy\")\n",
    "else:\n",
    "    print(\"Target String Not ends with Easy\")"
   ]
  },
  {
   "cell_type": "code",
   "execution_count": 28,
   "metadata": {},
   "outputs": [
    {
     "name": "stdout",
     "output_type": "stream",
     "text": [
      "Target String ends with Easy\n"
     ]
    }
   ],
   "source": [
    "s=\"Learning Python is very Easy\"\n",
    "res=re.search(\"Easy$\",s,re.IGNORECASE)\n",
    "if res!=None:\n",
    "    print(\"Target String ends with Easy\")\n",
    "else:\n",
    "    print(\"Target String Not ends with Easy\")"
   ]
  },
  {
   "cell_type": "code",
   "execution_count": 3,
   "metadata": {},
   "outputs": [
    {
     "name": "stdout",
     "output_type": "stream",
     "text": [
      "extracted all mobile number\n"
     ]
    }
   ],
   "source": [
    "import re\n",
    "f1=open(\"input.txt\",\"r\")\n",
    "f2=open(\"output.txt\",\"w\")\n",
    "for line in f1:\n",
    "    list=re.findall(\"[6-9]\\d{9}]\",line)\n",
    "    for n in list:\n",
    "        f2.write(n+\"\\n\")\n",
    "print(\"extracted all mobile number\")\n",
    "f1.close()\n",
    "f2.close()"
   ]
  },
  {
   "cell_type": "code",
   "execution_count": 4,
   "metadata": {},
   "outputs": [
    {
     "name": "stdout",
     "output_type": "stream",
     "text": [
      "enter vehicle registration numberKA 20 ADR 56\n",
      "not a valid number\n"
     ]
    }
   ],
   "source": [
    "s=input(\"enter vehicle registration number\")\n",
    "m=re.fullmatch(\"KA[0][0-6][A-Z]{2}\\d{4}\",s)\n",
    "if m!=None:\n",
    "   print(\"its  valid registration \")\n",
    "else:\n",
    "    print(\"not a valid number\")"
   ]
  },
  {
   "cell_type": "code",
   "execution_count": null,
   "metadata": {},
   "outputs": [],
   "source": [
    "=input(\"enter vehicle registration number\")\n",
    "m=re.fullmatch(\"KA[0][0-6][A-Z]{2}\\d{4}\",s)\n",
    "if m!=None:\n",
    "   print(\"its  valid registration \")\n",
    "else:\n",
    "    print(\"not a valid number\")s"
   ]
  },
  {
   "cell_type": "code",
   "execution_count": null,
   "metadata": {},
   "outputs": [],
   "source": []
  }
 ],
 "metadata": {
  "kernelspec": {
   "display_name": "Python 3",
   "language": "python",
   "name": "python3"
  },
  "language_info": {
   "codemirror_mode": {
    "name": "ipython",
    "version": 3
   },
   "file_extension": ".py",
   "mimetype": "text/x-python",
   "name": "python",
   "nbconvert_exporter": "python",
   "pygments_lexer": "ipython3",
   "version": "3.6.5"
  }
 },
 "nbformat": 4,
 "nbformat_minor": 2
}
